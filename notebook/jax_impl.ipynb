{
 "cells": [
  {
   "cell_type": "code",
   "execution_count": 81,
   "id": "8c93c6b8",
   "metadata": {},
   "outputs": [],
   "source": [
    "from jax import vmap, jit\n",
    "import jax.numpy as jnp\n",
    "from jax.lax import lgamma\n",
    "from jax.random import multivariate_normal, gamma, choice, permutation, PRNGKey\n",
    "\n",
    "import numpy as np\n",
    "import torch"
   ]
  },
  {
   "cell_type": "code",
   "execution_count": 82,
   "id": "7a56f169",
   "metadata": {},
   "outputs": [],
   "source": [
    "def pdfMST(y, mu, A, D, nu):\n",
    "    th2 = A * nu\n",
    "    th1 = jnp.log(1 + (jnp.swapaxes(D, 1, 2)@jnp.expand_dims((y - mu), -1))[..., 0] ** 2 / th2)\n",
    "    exponent = - (nu + 1) / 2\n",
    "    \n",
    "    main = exponent * th1\n",
    "    \n",
    "    gam1 = lgamma((nu + 1) / 2)\n",
    "    gam2 = lgamma(nu / 2)\n",
    "    th2 = gam1 - (gam2 + 0.5 * jnp.log(np.pi * th2))\n",
    "    \n",
    "    main += th2\n",
    "    \n",
    "    return jnp.exp(main.sum(1))\n",
    "\n",
    "def pdfMMST(pi, MST=None, mu=None, A=None, D=None, nu=None):\n",
    "    if MST is not None:\n",
    "        return (pi * MST).sum()\n",
    "    else:\n",
    "        return (pi * pdfMST(y, mu, A, D, nu)).sum()\n",
    "    \n",
    "def sampleMST(N, mu, A, D, nu, seed=42):\n",
    "    key = PRNGKey(seed)\n",
    "    batch, M = mu.shape\n",
    "    X = multivariate_normal(key, np.zeros(M), np.diag(np.ones(M)), (batch, N,), dtype=jnp.float32)\n",
    "    \n",
    "    # TODO comment tirer en batch sur numpy ?????\n",
    "    W = torch.distributions.Gamma(torch.tensor(np.array(nu)) / 2, torch.tensor(np.array(nu)) / 2).sample((N,)).numpy()\n",
    "    W = jnp.swapaxes(jnp.array(W), 0, 1)\n",
    "    \n",
    "    X /= jnp.sqrt(W)\n",
    "    \n",
    "    matA = vmap(jnp.diag)(jnp.sqrt(A))\n",
    "    coef = D@matA\n",
    "    \n",
    "    gen = jnp.expand_dims(mu, 1) + jnp.swapaxes(coef@jnp.swapaxes(X, 2, 1), 1, 2)\n",
    "    \n",
    "    return gen \n",
    "\n",
    "def sampleMMST(N, pi, mu, A, D, nu, seed=42):\n",
    "    key = PRNGKey(seed)\n",
    "    classes = choice(key, len(pi), (N,), p=pi)\n",
    "    \n",
    "    gen = sampleMST(N, mu, A, D, nu)\n",
    "    gen_mix = jnp.zeros((1, len(mu[0])))\n",
    "  \n",
    "    for k in range(len(pi)):\n",
    "        gen_mix = jnp.concatenate((gen_mix, gen[k, classes == k, :]),)\n",
    "    gen_mix = gen_mix[1:]\n",
    "    permutation(key, gen_mix)\n",
    "    return gen_mix\n"
   ]
  },
  {
   "cell_type": "code",
   "execution_count": 91,
   "id": "57a5825c",
   "metadata": {},
   "outputs": [],
   "source": [
    "@jit\n",
    "def alpha_beta(y, mu, A, D, nu):\n",
    "    tmp = nu / 2 \n",
    "    alpha = tmp + 0.5\n",
    "    beta = tmp + (jnp.swapaxes(D, 1, 2)@jnp.expand_dims((y - mu), -1))[..., 0] ** 2 / (2 * A)\n",
    "    return alpha, beta\n",
    "\n",
    "@jit\n",
    "def U(alpha, beta):\n",
    "    return alpha / beta\n",
    "\n",
    "@jit\n",
    "def Utilde(alpha, beta):\n",
    "    return digamma(alpha) - jnp.log(beta)\n",
    "\n",
    "def updateStat(y, mu, A, D, nu, r, gam, stat):   \n",
    "    stat['s0'] = gam * r  + (1 - gam) * stat['s0']\n",
    "    \n",
    "    alpha, beta = alpha_beta(y, mu, A, D, nu)\n",
    "    u, utilde = U(alpha, beta), Utilde(alpha, beta)\n",
    "    r = jnp.expand_dims(r, -1)\n",
    "    ru, rutilde = r * u, r * utilde\n",
    "    \n",
    "    y_unsqueeze = jnp.expand_dims(y, -1)\n",
    "    ymat = y_unsqueeze@y_unsqueeze.T\n",
    "    \n",
    "    stat['s1'] = gam * jnp.einsum('ij,k->ijk', ru , y, optimize=True) + (1 - gam) * stat['s1']\n",
    "    stat['S2'] = gam * jnp.einsum('ij,kl->ijkl', ru , ymat, optimize=True) + (1 - gam) * stat['S2']\n",
    "    stat['s3'] = gam * ru + (1 - gam) * stat['s3']\n",
    "    stat['s4'] = gam * rutilde  + (1 - gam) * stat['s4']\n",
    "    \n",
    "    return stat"
   ]
  },
  {
   "cell_type": "code",
   "execution_count": 95,
   "id": "d18f88e1",
   "metadata": {},
   "outputs": [
    {
     "name": "stdout",
     "output_type": "stream",
     "text": [
      "797 µs ± 38.7 µs per loop (mean ± std. dev. of 7 runs, 1000 loops each)\n"
     ]
    }
   ],
   "source": [
    "%timeit alpha_beta(gen_mix[0], mu, A, D, nu)"
   ]
  },
  {
   "cell_type": "code",
   "execution_count": 83,
   "id": "30058c4e",
   "metadata": {},
   "outputs": [],
   "source": [
    "pi = jnp.array([.1, .2, .3, .4], dtype=jnp.float32)\n",
    "mu = jnp.array([[0, -6], [0, 0], [0, 6], [-6, 6]], dtype=jnp.float32)\n",
    "angle = jnp.pi / 6\n",
    "matRot = [[np.cos(angle), -np.sin(angle)], [np.sin(angle), jnp.cos(angle)]]\n",
    "D = jnp.array([matRot, matRot, matRot, matRot], dtype=jnp.float32)\n",
    "A = jnp.ones((4, 2), dtype=jnp.float32)\n",
    "A = jnp.array([[2, 3], [1, 2.5], [5, 2], [1.5, 0.9]], dtype=jnp.float32)\n",
    "nu = jnp.array([[1, 3], [1, 3], [1, 3], [1, 3]], dtype=jnp.float32)"
   ]
  },
  {
   "cell_type": "code",
   "execution_count": 89,
   "id": "4691b7f7",
   "metadata": {},
   "outputs": [],
   "source": [
    "gen_mix = sampleMMST(3000, pi, mu, A, D, nu)"
   ]
  },
  {
   "cell_type": "code",
   "execution_count": null,
   "id": "0c742ef6",
   "metadata": {},
   "outputs": [],
   "source": []
  }
 ],
 "metadata": {
  "kernelspec": {
   "display_name": "torch",
   "language": "python",
   "name": "torch"
  },
  "language_info": {
   "codemirror_mode": {
    "name": "ipython",
    "version": 3
   },
   "file_extension": ".py",
   "mimetype": "text/x-python",
   "name": "python",
   "nbconvert_exporter": "python",
   "pygments_lexer": "ipython3",
   "version": "3.9.7"
  }
 },
 "nbformat": 4,
 "nbformat_minor": 5
}
