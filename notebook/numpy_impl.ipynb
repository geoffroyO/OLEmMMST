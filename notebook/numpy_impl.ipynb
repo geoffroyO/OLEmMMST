{
 "cells": [
  {
   "cell_type": "code",
   "execution_count": 1,
   "id": "3ad73629",
   "metadata": {},
   "outputs": [],
   "source": [
    "import numpy as np\n",
    "from numpy.random import multivariate_normal, gamma, choice, shuffle\n",
    "import autograd.numpy as autonp\n",
    "\n",
    "\n",
    "from scipy.special import loggamma, digamma\n",
    "from scipy.optimize import brentq\n",
    "\n",
    "from sklearn.cluster import KMeans\n",
    "\n",
    "import multiprocessing\n",
    "from joblib import Parallel, delayed\n",
    "from itertools import permutations\n",
    "\n",
    "import matplotlib.pyplot as plt\n",
    "\n",
    "from tqdm import tqdm\n",
    "\n",
    "import copy\n",
    "\n",
    "import torch\n",
    "\n",
    "from numba import jit\n",
    "\n",
    "from GenStudentMixtures.Mixture_Multivariate_Student_Generalized import MMST\n",
    "\n",
    "@jit(nopython=True)\n",
    "def batch_diagonal(A):\n",
    "    N = A.shape[1]\n",
    "    A = np.expand_dims(A, axis=1)\n",
    "    return A*np.eye(N)"
   ]
  },
  {
   "cell_type": "markdown",
   "id": "1f908eb6",
   "metadata": {},
   "source": [
    "# Distributions"
   ]
  },
  {
   "cell_type": "code",
   "execution_count": 2,
   "id": "f5a0a54e",
   "metadata": {},
   "outputs": [],
   "source": [
    "def pdfMST(y, mu, A, D, nu):\n",
    "    th2 = A * nu\n",
    "    th1 = np.log(1 + (np.swapaxes(D, 1, 2)@np.expand_dims((y - mu), -1))[..., 0] ** 2 / th2)\n",
    "    exponent = - (nu + 1) / 2\n",
    "    \n",
    "    main = exponent * th1\n",
    "    \n",
    "    gam1 = loggamma((nu + 1) / 2)\n",
    "    gam2 = loggamma(nu / 2)\n",
    "    th2 = gam1 - (gam2 + 0.5 * np.log(np.pi * th2))\n",
    "    \n",
    "    main += th2\n",
    "    \n",
    "    return np.exp(main.sum(1))\n",
    "\n",
    "def pdfMMST(pi, MST=None, mu=None, A=None, D=None, nu=None):\n",
    "    if MST is not None:\n",
    "        return (pi * MST).sum()\n",
    "    else:\n",
    "        return (pi * pdfMST(y, mu, A, D, nu)).sum()"
   ]
  },
  {
   "cell_type": "code",
   "execution_count": 12,
   "id": "4e6d2326",
   "metadata": {},
   "outputs": [],
   "source": [
    "def sampleMST(N, mu, A, D, nu):\n",
    "    \n",
    "    batch, M = mu.shape\n",
    "    X = multivariate_normal(np.zeros(M), cov=np.diag(np.ones(M)), size = (batch, N,))\n",
    "    \n",
    "    # TODO comment tirer en batch sur numpy ?????\n",
    "    W = torch.distributions.Gamma(torch.tensor(nu) / 2, torch.tensor(nu) / 2).sample((N,)).numpy()\n",
    "    W = np.swapaxes(W, 0, 1)\n",
    "    \n",
    "    X /= np.sqrt(W)\n",
    "    \n",
    "    matA = batch_diagonal(np.sqrt(A))\n",
    "    coef = D@matA\n",
    "    \n",
    "    gen = np.expand_dims(mu, 1) + np.swapaxes(coef@np.swapaxes(X, 2, 1), 1, 2)\n",
    "    \n",
    "    return gen \n",
    "\n",
    "def sampleMMST(N, pi, mu, A, D, nu):\n",
    "    classes = choice(len(pi), N, p=pi)\n",
    "    \n",
    "    gen = sampleMST(N, mu, A, D, nu)\n",
    "    gen_mix = np.zeros((1, len(mu[0])))\n",
    "  \n",
    "    for k in range(len(pi)):\n",
    "        gen_mix = np.concatenate((gen_mix, gen[k, classes == k, :]),)\n",
    "    gen_mix = gen_mix[1:]\n",
    "    shuffle(gen_mix)\n",
    "    return gen_mix"
   ]
  },
  {
   "cell_type": "markdown",
   "id": "83d7e38e",
   "metadata": {},
   "source": [
    "# Update statistics"
   ]
  },
  {
   "cell_type": "code",
   "execution_count": 4,
   "id": "14a12116",
   "metadata": {},
   "outputs": [],
   "source": [
    "def alpha_beta(y, mu, A, D, nu):\n",
    "    tmp = nu / 2 \n",
    "    alpha = tmp + 0.5\n",
    "    beta = tmp + (np.transpose(D, (0, 2, 1))@np.expand_dims((y - mu), -1))[..., 0] ** 2 / (2 * A)\n",
    "    return alpha, beta\n",
    "\n",
    "@jit(nopython=True)\n",
    "def U(alpha, beta):\n",
    "    return alpha / beta\n",
    "\n",
    "def Utilde(alpha, beta):\n",
    "    return digamma(alpha) - np.log(beta)\n",
    "\n",
    "def updateStat(y, mu, A, D, nu, r, gam, stat):   \n",
    "    stat['s0'] = gam * r  + (1 - gam) * stat['s0']\n",
    "    \n",
    "    alpha, beta = alpha_beta(y, mu, A, D, nu)\n",
    "    u, utilde = U(alpha, beta), Utilde(alpha, beta)\n",
    "    r = np.expand_dims(r, -1)\n",
    "    ru, rutilde = r * u, r * utilde\n",
    "    \n",
    "    y_unsqueeze = np.expand_dims(y, -1)\n",
    "    ymat = y_unsqueeze@y_unsqueeze.T\n",
    "    \n",
    "    stat['s1'] = gam * np.einsum('ij,k->ijk', ru , y, optimize=True) + (1 - gam) * stat['s1']\n",
    "    stat['S2'] = gam * np.einsum('ij,kl->ijkl', ru , ymat, optimize=True) + (1 - gam) * stat['S2']\n",
    "    stat['s3'] = gam * ru + (1 - gam) * stat['s3']\n",
    "    stat['s4'] = gam * rutilde  + (1 - gam) * stat['s4']\n",
    "    \n",
    "    return stat"
   ]
  },
  {
   "cell_type": "markdown",
   "id": "ecd821c7",
   "metadata": {},
   "source": [
    "# Update parameters"
   ]
  },
  {
   "cell_type": "code",
   "execution_count": 5,
   "id": "909f3310",
   "metadata": {},
   "outputs": [],
   "source": [
    "# Update pi\n",
    "def update_pi(s0):\n",
    "    return s0 # / s0.sum()\n",
    "\n",
    "# Update nu\n",
    "def fun_nu(nukm, s3km, s4km):\n",
    "    return s4km - s3km - digamma(nukm / 2) + np.log(nukm / 2) + 1\n",
    "\n",
    "def update_nu(s3, s4):\n",
    "    K, M = s3.shape\n",
    "    new_nu = np.zeros((K, M))\n",
    "    for k in range(K):\n",
    "        for m in range(M):\n",
    "            s3km, s4km = s3[k, m] , s4[k, m] \n",
    "            fun = lambda x : fun_nu(x, s3km, s4km)\n",
    "            new_nu[k, m] = brentq(fun, .01, 100)\n",
    "    return new_nu.astype(np.float64)\n",
    "\n",
    "# Update mu\n",
    "def update_mu(D, s1, s3):\n",
    "    S3_inv = batch_diagonal(1 / s3)\n",
    "    v = np.expand_dims(np.diagonal(np.transpose(D, (0, 2, 1))@np.transpose(s1, (0, 2, 1)), 0, -2, -1), -1)\n",
    "    return (D@(S3_inv@v))[..., 0], v[..., 0]\n",
    "\n",
    "# Update A\n",
    "def update_A(D, v, S2, s3):\n",
    "    tmp = np.swapaxes(D[:, None, ...], -2, -1)@S2\n",
    "    tmp = tmp@D[:, None, ...]\n",
    "    tmp = np.diagonal(tmp, 0, -2, -1)\n",
    "    return np.diagonal(tmp, 0, -2, -1) - v ** 2 / s3"
   ]
  },
  {
   "cell_type": "markdown",
   "id": "edf1b5c4",
   "metadata": {},
   "source": [
    "## D update pymanopt autodiff"
   ]
  },
  {
   "cell_type": "code",
   "execution_count": 6,
   "id": "78ba5a61",
   "metadata": {},
   "outputs": [],
   "source": [
    "import pymanopt\n",
    "from pymanopt.manifolds import Stiefel\n",
    "from pymanopt.solvers import ConjugateGradient"
   ]
  },
  {
   "cell_type": "code",
   "execution_count": 7,
   "id": "91c8cff7",
   "metadata": {},
   "outputs": [],
   "source": [
    "# Update D\n",
    "def loss(D, s1k, S2k, s3k):\n",
    "    loss = 0\n",
    "    M = len(D[0])\n",
    "    for m in range(M):\n",
    "        tmp = s1k[m] / s3k[m]\n",
    "        matQuad = (S2k[m] - np.expand_dims(tmp, -1)@np.expand_dims(s1k[m], -1).T)\n",
    "        quadForm = D[:, m].T @ matQuad @ D[:, m]\n",
    "        loss += np.log(quadForm)\n",
    "    return loss  \n",
    "\n",
    "def update_D(s1, S2, s3):\n",
    "    def find_cost(s1k, S2k, s3k, manifold):\n",
    "        @pymanopt.function.autograd(manifold)\n",
    "        def cost(D):\n",
    "            loss = 0\n",
    "            M = len(D[0])\n",
    "            E = np.eye(M)\n",
    "            for m in range(M):\n",
    "                tmp = s1k[m] / s3k[m]\n",
    "                matQuad = (S2k[m] - np.expand_dims(tmp, -1)@np.expand_dims(s1k[m], -1).T)\n",
    "                quadForm = (D@E[:,m]).T @ matQuad @ (D@E[:,m])\n",
    "                loss += quadForm\n",
    "            return loss\n",
    "        return cost\n",
    "    \n",
    "    def opti_D(s1k, S2k, s3k):\n",
    "        manifold = Stiefel(*s1k.shape)\n",
    "        solver=ConjugateGradient(maxiter=4000)\n",
    "        cost = find_cost(s1k, S2k, s3k, manifold)\n",
    "        problem = pymanopt.Problem(manifold, cost, verbosity=0)\n",
    "        return solver.solve(problem)\n",
    "    \n",
    "    d = (delayed(opti_D)(s1[k], S2[k], s3[k]) for k in range(len(s1)))\n",
    "    D_tmp = np.array(Parallel(n_jobs=multiprocessing.cpu_count())(d))\n",
    "    D_opt = np.zeros(D_tmp.shape)\n",
    "    \n",
    "    for k in range(len(D_tmp)):\n",
    "        minim_permuted = np.inf\n",
    "        for e in permutations(list(D_tmp[k].T)):\n",
    "            D_permuted = np.vstack(e).T\n",
    "            cost = loss(D_permuted, s1[k], S2[k], s3[k])\n",
    "            if cost < minim_permuted:\n",
    "                D_opt[k] = D_permuted.copy()\n",
    "                minim_permuted = cost\n",
    "    \n",
    "    return D_opt\n",
    "\n",
    "def updateParams(stat, D_prev):\n",
    "    s0 = stat['s0']\n",
    "    s1 = stat['s1'] / s0[:, None, None]\n",
    "    S2 = stat['S2'] / s0[:, None, None, None]\n",
    "    s3 = stat['s3'] / np.expand_dims(s0, -1)\n",
    "    s4 = stat['s4'] / np.expand_dims(s0, -1)\n",
    "    \n",
    "    pi_new = update_pi(s0)  \n",
    "    D_new = update_D(s1, S2, s3) \n",
    "    mu_new, v = update_mu(D_new, s1, s3)\n",
    "    A_new = update_A(D_new, v, S2, s3)\n",
    "    nu_new = update_nu(s3, s4)\n",
    "    return pi_new, mu_new, A_new, D_new, nu_new"
   ]
  },
  {
   "cell_type": "markdown",
   "id": "b222ecdc",
   "metadata": {},
   "source": [
    "## D update pymanopt grad home"
   ]
  },
  {
   "cell_type": "code",
   "execution_count": 9,
   "id": "6a53e82b",
   "metadata": {},
   "outputs": [],
   "source": [
    "import pymanopt\n",
    "from pymanopt.manifolds import Stiefel\n",
    "from pymanopt.solvers import ConjugateGradient"
   ]
  },
  {
   "cell_type": "code",
   "execution_count": 10,
   "id": "3a94a893",
   "metadata": {},
   "outputs": [],
   "source": [
    "# Update D\n",
    "def loss(D, s1k, S2k, s3k):\n",
    "    loss = 0\n",
    "    M = len(D[0])\n",
    "    for m in range(M):\n",
    "        tmp = s1k[m] / s3k[m]\n",
    "        matQuad = (S2k[m] - np.expand_dims(tmp, -1)@np.expand_dims(s1k[m], -1).T)\n",
    "        quadForm = D[:, m].T @ matQuad @ D[:, m]\n",
    "        loss += quadForm\n",
    "    return loss  \n",
    "\n",
    "def update_D(s1, S2, s3):\n",
    "    def find_cost(s1k, S2k, s3k, manifold):\n",
    "        @pymanopt.function.numpy(manifold)\n",
    "        def cost(D):\n",
    "            loss = 0\n",
    "            M = len(D[0])\n",
    "            for m in range(M):\n",
    "                tmp = s1k[m] / s3k[m]\n",
    "                matQuad = (S2k[m] - np.expand_dims(tmp, -1)@np.expand_dims(s1k[m], -1).T)\n",
    "                quadForm = D[:, m].T @ matQuad @ D[:, m]\n",
    "                loss += quadForm\n",
    "            return loss\n",
    "        \n",
    "        @pymanopt.function.numpy(manifold)\n",
    "        def grad(D):\n",
    "            grad = np.zeros(D.shape)\n",
    "            M = len(D[0])\n",
    "            for m in range(M):\n",
    "                tmp = s1k[m] / s3k[m]\n",
    "                matQuad = (S2k[m] - np.expand_dims(tmp, -1)@np.expand_dims(s1k[m], -1).T)\n",
    "                grad[m] = 2 * matQuad @ D[:, m]\n",
    "            return grad.T\n",
    "        return cost, grad\n",
    "    \n",
    "    def opti_D(s1k, S2k, s3k):\n",
    "        manifold = Stiefel(*s1k.shape)\n",
    "        solver = ConjugateGradient(maxiter=4000)\n",
    "        cost, grad = find_cost(s1k, S2k, s3k, manifold)\n",
    "        problem = pymanopt.Problem(manifold, cost, egrad=grad, verbosity=0)\n",
    "        return solver.solve(problem)\n",
    "    \n",
    "    d = (delayed(opti_D)(s1[k], S2[k], s3[k]) for k in range(len(s1)))\n",
    "    D_tmp = np.array(Parallel(n_jobs=multiprocessing.cpu_count())(d))\n",
    "\n",
    "    D_opt = np.zeros(D_tmp.shape)\n",
    "    for k in range(len(D_tmp)):\n",
    "        minim_permuted = np.inf\n",
    "        for e in permutations(list(D_tmp[k].T)):\n",
    "            D_permuted = np.vstack(e).T\n",
    "            cost = loss(D_permuted, s1[k], S2[k], s3[k])\n",
    "            if cost < minim_permuted:\n",
    "                D_opt[k] = D_permuted.copy()\n",
    "                minim_permuted = cost\n",
    "\n",
    "    return D_opt\n",
    "\n",
    "def updateParams(stat, D_prev):\n",
    "    s0 = stat['s0']\n",
    "    s1 = stat['s1'] / s0[:, None, None]\n",
    "    S2 = stat['S2'] / s0[:, None, None, None]\n",
    "    s3 = stat['s3'] / np.expand_dims(s0, -1)\n",
    "    s4 = stat['s4'] / np.expand_dims(s0, -1)\n",
    "    \n",
    "    pi_new = update_pi(s0)  \n",
    "    D_new = update_D(s1, S2, s3) \n",
    "    mu_new, v = update_mu(D_new, s1, s3)\n",
    "    A_new = update_A(D_new, v, S2, s3)\n",
    "    nu_new = update_nu(s3, s4)\n",
    "    return pi_new, mu_new, A_new, D_new, nu_new"
   ]
  },
  {
   "cell_type": "code",
   "execution_count": 36,
   "id": "35213f95",
   "metadata": {
    "pycharm": {
     "name": "#%%\n"
    }
   },
   "outputs": [
    {
     "data": {
      "text/plain": [
       "array([[[[ 1.89073126e-01,  5.94174152e-02, -9.74373226e-02],\n",
       "         [-9.77522124e-03, -7.46409206e+00, -8.10082460e-01],\n",
       "         [-1.05898699e-01,  9.42064077e-02,  9.30426027e-01]],\n",
       "\n",
       "        [[ 8.14282408e-01, -1.68496362e+00, -1.00910753e-01],\n",
       "         [-2.19118339e+00,  2.25220213e+01,  5.38620218e-01],\n",
       "         [-1.15680227e-01,  5.61252217e-01,  4.16146729e-01]],\n",
       "\n",
       "        [[ 2.64973509e+00,  7.05965538e+00,  2.89256784e-01],\n",
       "         [-4.62499765e-01,  5.60294284e+00,  1.11892734e-01],\n",
       "         [-6.77849117e-02, -7.03572813e-02,  2.59884593e-01]]],\n",
       "\n",
       "\n",
       "       [[[ 1.29966218e-01, -1.24983928e-01,  1.23356521e-02],\n",
       "         [-5.03907420e-01,  7.60161614e+00, -7.69324012e-01],\n",
       "         [ 6.91333899e-03, -1.84987040e-01,  2.60443286e-01]],\n",
       "\n",
       "        [[ 8.32225989e-01, -1.07665927e-01, -3.38920839e-02],\n",
       "         [ 3.92484810e-01, -3.61540813e+00,  1.81120573e-01],\n",
       "         [ 1.30038877e-02, -3.97388005e-01,  8.61519511e-02]],\n",
       "\n",
       "        [[ 5.38264463e+00, -5.85156749e+00,  6.72248363e-02],\n",
       "         [-8.76164995e-01,  3.47160149e+00, -9.07044862e-02],\n",
       "         [-1.27308203e-01,  2.12135573e-02,  9.81378663e-02]]],\n",
       "\n",
       "\n",
       "       [[[ 3.65314325e-01, -1.47400289e-01,  3.32733686e-02],\n",
       "         [ 7.53253190e-01, -8.74851385e-02, -2.35299853e-02],\n",
       "         [ 3.33133672e-02, -4.08300602e-02,  3.41782629e-02]],\n",
       "\n",
       "        [[ 6.45450370e+01, -2.24735272e-01, -1.50029319e+00],\n",
       "         [ 1.11364736e+01,  6.25546566e-02, -2.29869494e-02],\n",
       "         [-1.19913692e+00, -8.95020599e-03,  2.11844841e-01]],\n",
       "\n",
       "        [[ 2.42523281e+01,  4.46580696e-02, -4.77927677e-01],\n",
       "         [-5.21435417e-02,  2.57118790e-01, -1.96952760e-02],\n",
       "         [-5.27560759e-01, -2.29428904e-02,  8.76094480e-02]]]])"
      ]
     },
     "execution_count": 36,
     "metadata": {},
     "output_type": "execute_result"
    }
   ],
   "source": [
    "(0.5 * stat['S2'] - np.expand_dims(mu_pred, -1) @ stat['s1'][:, :, None, :]) / A_pred"
   ]
  },
  {
   "cell_type": "code",
   "execution_count": 37,
   "id": "0a4027e5",
   "metadata": {
    "pycharm": {
     "name": "#%%\n"
    }
   },
   "outputs": [
    {
     "ename": "IndexError",
     "evalue": "too many indices for array: array is 2-dimensional, but 3 were indexed",
     "output_type": "error",
     "traceback": [
      "\u001B[0;31m---------------------------------------------------------------------------\u001B[0m",
      "\u001B[0;31mIndexError\u001B[0m                                Traceback (most recent call last)",
      "\u001B[0;32m/var/folders/wv/2vmcq8g50l78y2b9nbkxtnw00000gn/T/ipykernel_28821/2879689066.py\u001B[0m in \u001B[0;36m<module>\u001B[0;34m\u001B[0m\n\u001B[1;32m      1\u001B[0m \u001B[0mtmp\u001B[0m \u001B[0;34m=\u001B[0m \u001B[0mmu_pred\u001B[0m \u001B[0;34m*\u001B[0m \u001B[0mnp\u001B[0m\u001B[0;34m.\u001B[0m\u001B[0mexpand_dims\u001B[0m\u001B[0;34m(\u001B[0m\u001B[0mstat\u001B[0m\u001B[0;34m[\u001B[0m\u001B[0;34m's3'\u001B[0m\u001B[0;34m]\u001B[0m\u001B[0;34m,\u001B[0m \u001B[0;34m-\u001B[0m\u001B[0;36m1\u001B[0m\u001B[0;34m)\u001B[0m\u001B[0;34m\u001B[0m\u001B[0;34m\u001B[0m\u001B[0m\n\u001B[0;32m----> 2\u001B[0;31m \u001B[0mtmp\u001B[0m \u001B[0;34m=\u001B[0m \u001B[0mnp\u001B[0m\u001B[0;34m.\u001B[0m\u001B[0mexpand_dims\u001B[0m\u001B[0;34m(\u001B[0m\u001B[0mtmp\u001B[0m\u001B[0;34m,\u001B[0m \u001B[0;34m-\u001B[0m\u001B[0;36m1\u001B[0m\u001B[0;34m)\u001B[0m \u001B[0;34m@\u001B[0m \u001B[0mmu_pred\u001B[0m\u001B[0;34m[\u001B[0m\u001B[0;34m:\u001B[0m\u001B[0;34m,\u001B[0m \u001B[0;34m:\u001B[0m\u001B[0;34m,\u001B[0m \u001B[0;32mNone\u001B[0m\u001B[0;34m,\u001B[0m \u001B[0;34m:\u001B[0m\u001B[0;34m]\u001B[0m\u001B[0;34m\u001B[0m\u001B[0;34m\u001B[0m\u001B[0m\n\u001B[0m",
      "\u001B[0;31mIndexError\u001B[0m: too many indices for array: array is 2-dimensional, but 3 were indexed"
     ]
    }
   ],
   "source": [
    "tmp = mu_pred * np.expand_dims(stat['s3'], -1)\n",
    "tmp = np.expand_dims(tmp, -1) @ mu_pred[:, :, None, :]"
   ]
  },
  {
   "cell_type": "code",
   "execution_count": 113,
   "id": "620a4376",
   "metadata": {
    "pycharm": {
     "name": "#%%\n"
    }
   },
   "outputs": [
    {
     "data": {
      "text/plain": [
       "(3, 3, 3, 3)"
      ]
     },
     "execution_count": 113,
     "metadata": {},
     "output_type": "execute_result"
    }
   ],
   "source": [
    "np.repeat(mat_mu[:,None,...], 3, 1).shape"
   ]
  },
  {
   "cell_type": "code",
   "execution_count": 115,
   "id": "a6422434",
   "metadata": {
    "pycharm": {
     "name": "#%%\n"
    }
   },
   "outputs": [
    {
     "data": {
      "text/plain": [
       "array([[ 1.99490182e-03, -2.12964245e-01,  2.88609181e-05],\n",
       "       [-2.12964245e-01,  2.27348378e+01, -3.08102561e-03],\n",
       "       [ 2.88609181e-05, -3.08102561e-03,  4.17540644e-07]])"
      ]
     },
     "execution_count": 115,
     "metadata": {},
     "output_type": "execute_result"
    }
   ],
   "source": [
    "mat_mu[0] * stat['s3'][0, 0]"
   ]
  },
  {
   "cell_type": "code",
   "execution_count": 135,
   "id": "36ee6ed9",
   "metadata": {
    "pycharm": {
     "name": "#%%\n"
    }
   },
   "outputs": [
    {
     "data": {
      "text/plain": [
       "array([[[ 3.15236994e-03, -3.36528883e-01,  4.56064000e-05],\n",
       "        [-3.36528883e-01,  3.59258880e+01, -4.86867695e-03],\n",
       "        [ 4.56064000e-05, -4.86867695e-03,  6.59803184e-07]],\n",
       "\n",
       "       [[ 3.15236994e-03, -3.36528883e-01,  4.56064000e-05],\n",
       "        [-3.36528883e-01,  3.59258880e+01, -4.86867695e-03],\n",
       "        [ 4.56064000e-05, -4.86867695e-03,  6.59803184e-07]],\n",
       "\n",
       "       [[ 3.15236994e-03, -3.36528883e-01,  4.56064000e-05],\n",
       "        [-3.36528883e-01,  3.59258880e+01, -4.86867695e-03],\n",
       "        [ 4.56064000e-05, -4.86867695e-03,  6.59803184e-07]]])"
      ]
     },
     "execution_count": 135,
     "metadata": {},
     "output_type": "execute_result"
    }
   ],
   "source": [
    "np.repeat(mat_mu[:,None,...], 3, 1)[0] "
   ]
  },
  {
   "cell_type": "code",
   "execution_count": 127,
   "id": "173c5e7b",
   "metadata": {
    "pycharm": {
     "name": "#%%\n"
    }
   },
   "outputs": [
    {
     "data": {
      "text/plain": [
       "array([0.63282605, 0.40823528, 0.47646178])"
      ]
     },
     "execution_count": 127,
     "metadata": {},
     "output_type": "execute_result"
    }
   ],
   "source": [
    "stat['s3'][0]"
   ]
  },
  {
   "cell_type": "code",
   "execution_count": 111,
   "id": "bcf924fc",
   "metadata": {
    "pycharm": {
     "name": "#%%\n"
    }
   },
   "outputs": [
    {
     "data": {
      "text/plain": [
       "0.63282605172886"
      ]
     },
     "execution_count": 111,
     "metadata": {},
     "output_type": "execute_result"
    }
   ],
   "source": [
    "stat['s3'][0, 0]"
   ]
  },
  {
   "cell_type": "code",
   "execution_count": 110,
   "id": "3fc980fd",
   "metadata": {
    "pycharm": {
     "name": "#%%\n"
    }
   },
   "outputs": [
    {
     "data": {
      "text/plain": [
       "array([0.63282605, 0.40823528, 0.47646178])"
      ]
     },
     "execution_count": 110,
     "metadata": {},
     "output_type": "execute_result"
    }
   ],
   "source": [
    "np.repeat(stat['s3'][:,None,...], 3, 1)[0, 0]"
   ]
  },
  {
   "cell_type": "markdown",
   "id": "7a54932d",
   "metadata": {},
   "source": [
    "# 3D test"
   ]
  },
  {
   "cell_type": "code",
   "execution_count": 13,
   "id": "bc70fc00",
   "metadata": {},
   "outputs": [],
   "source": [
    "pi = np.array([.3, .5, .2], dtype=np.float64)\n",
    "mu = np.array([[0, -6, 0], [0, 0, 0], [0, 6, 0]], dtype=np.float64)\n",
    "angle = np.pi / 6\n",
    "matRot = [[1, 0, 0], [0, np.cos(angle), -np.sin(angle)], [0, np.sin(angle), np.cos(angle)]]\n",
    "D = np.array([matRot, matRot, matRot], dtype=np.float64)\n",
    "A = np.ones((3, 3), dtype=np.float64)\n",
    "nu = np.array([[1, 3, 5], [1, 3, 5], [1, 3, 5]], dtype=np.float64)\n",
    "\n",
    "\n",
    "gen_mix = sampleMMST(50000, pi, mu, A, D, nu)\n",
    "gen_mix = np.array(sorted(gen_mix, key=lambda e: abs(e.max()) < 10 and abs(e.min()) < 10)[::-1], dtype=np.float64)"
   ]
  },
  {
   "cell_type": "code",
   "execution_count": 14,
   "id": "8227a7c2",
   "metadata": {},
   "outputs": [
    {
     "name": "stderr",
     "output_type": "stream",
     "text": [
      "  0%|          | 0/999 [00:04<?, ?it/s]\n"
     ]
    },
    {
     "ename": "TypeError",
     "evalue": "__init__() got an unexpected keyword argument 'maxiter'",
     "output_type": "error",
     "traceback": [
      "\u001B[0;31m---------------------------------------------------------------------------\u001B[0m",
      "\u001B[0;31m_RemoteTraceback\u001B[0m                          Traceback (most recent call last)",
      "\u001B[0;31m_RemoteTraceback\u001B[0m: \n\"\"\"\nTraceback (most recent call last):\n  File \"/Users/geoffroy/anaconda3/lib/python3.9/site-packages/joblib/externals/loky/process_executor.py\", line 436, in _process_worker\n    r = call_item()\n  File \"/Users/geoffroy/anaconda3/lib/python3.9/site-packages/joblib/externals/loky/process_executor.py\", line 288, in __call__\n    return self.fn(*self.args, **self.kwargs)\n  File \"/Users/geoffroy/anaconda3/lib/python3.9/site-packages/joblib/_parallel_backends.py\", line 595, in __call__\n    return self.func(*args, **kwargs)\n  File \"/Users/geoffroy/anaconda3/lib/python3.9/site-packages/joblib/parallel.py\", line 262, in __call__\n    return [func(*args, **kwargs)\n  File \"/Users/geoffroy/anaconda3/lib/python3.9/site-packages/joblib/parallel.py\", line 262, in <listcomp>\n    return [func(*args, **kwargs)\n  File \"/var/folders/wv/2vmcq8g50l78y2b9nbkxtnw00000gn/T/ipykernel_28821/3995804874.py\", line 38, in opti_D\n  File \"/Users/geoffroy/Desktop/Cours/OLEmMMST/pymanopt/solvers/conjugate_gradient.py\", line 46, in __init__\n    super().__init__(*args, **kwargs)\nTypeError: __init__() got an unexpected keyword argument 'maxiter'\n\"\"\"",
      "\nThe above exception was the direct cause of the following exception:\n",
      "\u001B[0;31mTypeError\u001B[0m                                 Traceback (most recent call last)",
      "\u001B[0;32m/var/folders/wv/2vmcq8g50l78y2b9nbkxtnw00000gn/T/ipykernel_28821/1929112909.py\u001B[0m in \u001B[0;36m<module>\u001B[0;34m\u001B[0m\n\u001B[1;32m     32\u001B[0m         \u001B[0mstat_new\u001B[0m\u001B[0;34m[\u001B[0m\u001B[0;34m's4'\u001B[0m\u001B[0;34m]\u001B[0m \u001B[0;34m+=\u001B[0m \u001B[0mstat_tmp\u001B[0m\u001B[0;34m[\u001B[0m\u001B[0;34m's4'\u001B[0m\u001B[0;34m]\u001B[0m \u001B[0;34m/\u001B[0m \u001B[0mm\u001B[0m\u001B[0;34m\u001B[0m\u001B[0;34m\u001B[0m\u001B[0m\n\u001B[1;32m     33\u001B[0m     \u001B[0mstat\u001B[0m \u001B[0;34m=\u001B[0m \u001B[0mcopy\u001B[0m\u001B[0;34m.\u001B[0m\u001B[0mdeepcopy\u001B[0m\u001B[0;34m(\u001B[0m\u001B[0mstat_new\u001B[0m\u001B[0;34m)\u001B[0m\u001B[0;34m\u001B[0m\u001B[0;34m\u001B[0m\u001B[0m\n\u001B[0;32m---> 34\u001B[0;31m     \u001B[0mpi_pred\u001B[0m\u001B[0;34m,\u001B[0m \u001B[0mmu_pred\u001B[0m\u001B[0;34m,\u001B[0m \u001B[0mA_pred\u001B[0m\u001B[0;34m,\u001B[0m \u001B[0mD_pred\u001B[0m\u001B[0;34m,\u001B[0m \u001B[0mnu_pred\u001B[0m \u001B[0;34m=\u001B[0m \u001B[0mupdateParams\u001B[0m\u001B[0;34m(\u001B[0m\u001B[0mcopy\u001B[0m\u001B[0;34m.\u001B[0m\u001B[0mdeepcopy\u001B[0m\u001B[0;34m(\u001B[0m\u001B[0mstat\u001B[0m\u001B[0;34m)\u001B[0m\u001B[0;34m,\u001B[0m \u001B[0mcopy\u001B[0m\u001B[0;34m.\u001B[0m\u001B[0mdeepcopy\u001B[0m\u001B[0;34m(\u001B[0m\u001B[0mD_pred\u001B[0m\u001B[0;34m)\u001B[0m\u001B[0;34m)\u001B[0m\u001B[0;34m\u001B[0m\u001B[0;34m\u001B[0m\u001B[0m\n\u001B[0m\u001B[1;32m     35\u001B[0m     \u001B[0mD_hist\u001B[0m\u001B[0;34m.\u001B[0m\u001B[0mappend\u001B[0m\u001B[0;34m(\u001B[0m\u001B[0mD_pred\u001B[0m\u001B[0;34m)\u001B[0m\u001B[0;34m\u001B[0m\u001B[0;34m\u001B[0m\u001B[0m\n\u001B[1;32m     36\u001B[0m     \u001B[0mpi_hist\u001B[0m\u001B[0;34m.\u001B[0m\u001B[0mappend\u001B[0m\u001B[0;34m(\u001B[0m\u001B[0mpi_pred\u001B[0m\u001B[0;34m)\u001B[0m\u001B[0;34m\u001B[0m\u001B[0;34m\u001B[0m\u001B[0m\n",
      "\u001B[0;32m/var/folders/wv/2vmcq8g50l78y2b9nbkxtnw00000gn/T/ipykernel_28821/3995804874.py\u001B[0m in \u001B[0;36mupdateParams\u001B[0;34m(stat, D_prev)\u001B[0m\n\u001B[1;32m     64\u001B[0m \u001B[0;34m\u001B[0m\u001B[0m\n\u001B[1;32m     65\u001B[0m     \u001B[0mpi_new\u001B[0m \u001B[0;34m=\u001B[0m \u001B[0mupdate_pi\u001B[0m\u001B[0;34m(\u001B[0m\u001B[0ms0\u001B[0m\u001B[0;34m)\u001B[0m\u001B[0;34m\u001B[0m\u001B[0;34m\u001B[0m\u001B[0m\n\u001B[0;32m---> 66\u001B[0;31m     \u001B[0mD_new\u001B[0m \u001B[0;34m=\u001B[0m \u001B[0mupdate_D\u001B[0m\u001B[0;34m(\u001B[0m\u001B[0ms1\u001B[0m\u001B[0;34m,\u001B[0m \u001B[0mS2\u001B[0m\u001B[0;34m,\u001B[0m \u001B[0ms3\u001B[0m\u001B[0;34m)\u001B[0m\u001B[0;34m\u001B[0m\u001B[0;34m\u001B[0m\u001B[0m\n\u001B[0m\u001B[1;32m     67\u001B[0m     \u001B[0mmu_new\u001B[0m\u001B[0;34m,\u001B[0m \u001B[0mv\u001B[0m \u001B[0;34m=\u001B[0m \u001B[0mupdate_mu\u001B[0m\u001B[0;34m(\u001B[0m\u001B[0mD_new\u001B[0m\u001B[0;34m,\u001B[0m \u001B[0ms1\u001B[0m\u001B[0;34m,\u001B[0m \u001B[0ms3\u001B[0m\u001B[0;34m)\u001B[0m\u001B[0;34m\u001B[0m\u001B[0;34m\u001B[0m\u001B[0m\n\u001B[1;32m     68\u001B[0m     \u001B[0mA_new\u001B[0m \u001B[0;34m=\u001B[0m \u001B[0mupdate_A\u001B[0m\u001B[0;34m(\u001B[0m\u001B[0mD_new\u001B[0m\u001B[0;34m,\u001B[0m \u001B[0mv\u001B[0m\u001B[0;34m,\u001B[0m \u001B[0mS2\u001B[0m\u001B[0;34m,\u001B[0m \u001B[0ms3\u001B[0m\u001B[0;34m)\u001B[0m\u001B[0;34m\u001B[0m\u001B[0;34m\u001B[0m\u001B[0m\n",
      "\u001B[0;32m/var/folders/wv/2vmcq8g50l78y2b9nbkxtnw00000gn/T/ipykernel_28821/3995804874.py\u001B[0m in \u001B[0;36mupdate_D\u001B[0;34m(s1, S2, s3)\u001B[0m\n\u001B[1;32m     42\u001B[0m \u001B[0;34m\u001B[0m\u001B[0m\n\u001B[1;32m     43\u001B[0m     \u001B[0md\u001B[0m \u001B[0;34m=\u001B[0m \u001B[0;34m(\u001B[0m\u001B[0mdelayed\u001B[0m\u001B[0;34m(\u001B[0m\u001B[0mopti_D\u001B[0m\u001B[0;34m)\u001B[0m\u001B[0;34m(\u001B[0m\u001B[0ms1\u001B[0m\u001B[0;34m[\u001B[0m\u001B[0mk\u001B[0m\u001B[0;34m]\u001B[0m\u001B[0;34m,\u001B[0m \u001B[0mS2\u001B[0m\u001B[0;34m[\u001B[0m\u001B[0mk\u001B[0m\u001B[0;34m]\u001B[0m\u001B[0;34m,\u001B[0m \u001B[0ms3\u001B[0m\u001B[0;34m[\u001B[0m\u001B[0mk\u001B[0m\u001B[0;34m]\u001B[0m\u001B[0;34m)\u001B[0m \u001B[0;32mfor\u001B[0m \u001B[0mk\u001B[0m \u001B[0;32min\u001B[0m \u001B[0mrange\u001B[0m\u001B[0;34m(\u001B[0m\u001B[0mlen\u001B[0m\u001B[0;34m(\u001B[0m\u001B[0ms1\u001B[0m\u001B[0;34m)\u001B[0m\u001B[0;34m)\u001B[0m\u001B[0;34m)\u001B[0m\u001B[0;34m\u001B[0m\u001B[0;34m\u001B[0m\u001B[0m\n\u001B[0;32m---> 44\u001B[0;31m     \u001B[0mD_tmp\u001B[0m \u001B[0;34m=\u001B[0m \u001B[0mnp\u001B[0m\u001B[0;34m.\u001B[0m\u001B[0marray\u001B[0m\u001B[0;34m(\u001B[0m\u001B[0mParallel\u001B[0m\u001B[0;34m(\u001B[0m\u001B[0mn_jobs\u001B[0m\u001B[0;34m=\u001B[0m\u001B[0mmultiprocessing\u001B[0m\u001B[0;34m.\u001B[0m\u001B[0mcpu_count\u001B[0m\u001B[0;34m(\u001B[0m\u001B[0;34m)\u001B[0m\u001B[0;34m)\u001B[0m\u001B[0;34m(\u001B[0m\u001B[0md\u001B[0m\u001B[0;34m)\u001B[0m\u001B[0;34m)\u001B[0m\u001B[0;34m\u001B[0m\u001B[0;34m\u001B[0m\u001B[0m\n\u001B[0m\u001B[1;32m     45\u001B[0m \u001B[0;34m\u001B[0m\u001B[0m\n\u001B[1;32m     46\u001B[0m     \u001B[0mD_opt\u001B[0m \u001B[0;34m=\u001B[0m \u001B[0mnp\u001B[0m\u001B[0;34m.\u001B[0m\u001B[0mzeros\u001B[0m\u001B[0;34m(\u001B[0m\u001B[0mD_tmp\u001B[0m\u001B[0;34m.\u001B[0m\u001B[0mshape\u001B[0m\u001B[0;34m)\u001B[0m\u001B[0;34m\u001B[0m\u001B[0;34m\u001B[0m\u001B[0m\n",
      "\u001B[0;32m~/anaconda3/lib/python3.9/site-packages/joblib/parallel.py\u001B[0m in \u001B[0;36m__call__\u001B[0;34m(self, iterable)\u001B[0m\n\u001B[1;32m   1054\u001B[0m \u001B[0;34m\u001B[0m\u001B[0m\n\u001B[1;32m   1055\u001B[0m             \u001B[0;32mwith\u001B[0m \u001B[0mself\u001B[0m\u001B[0;34m.\u001B[0m\u001B[0m_backend\u001B[0m\u001B[0;34m.\u001B[0m\u001B[0mretrieval_context\u001B[0m\u001B[0;34m(\u001B[0m\u001B[0;34m)\u001B[0m\u001B[0;34m:\u001B[0m\u001B[0;34m\u001B[0m\u001B[0;34m\u001B[0m\u001B[0m\n\u001B[0;32m-> 1056\u001B[0;31m                 \u001B[0mself\u001B[0m\u001B[0;34m.\u001B[0m\u001B[0mretrieve\u001B[0m\u001B[0;34m(\u001B[0m\u001B[0;34m)\u001B[0m\u001B[0;34m\u001B[0m\u001B[0;34m\u001B[0m\u001B[0m\n\u001B[0m\u001B[1;32m   1057\u001B[0m             \u001B[0;31m# Make sure that we get a last message telling us we are done\u001B[0m\u001B[0;34m\u001B[0m\u001B[0;34m\u001B[0m\u001B[0m\n\u001B[1;32m   1058\u001B[0m             \u001B[0melapsed_time\u001B[0m \u001B[0;34m=\u001B[0m \u001B[0mtime\u001B[0m\u001B[0;34m.\u001B[0m\u001B[0mtime\u001B[0m\u001B[0;34m(\u001B[0m\u001B[0;34m)\u001B[0m \u001B[0;34m-\u001B[0m \u001B[0mself\u001B[0m\u001B[0;34m.\u001B[0m\u001B[0m_start_time\u001B[0m\u001B[0;34m\u001B[0m\u001B[0;34m\u001B[0m\u001B[0m\n",
      "\u001B[0;32m~/anaconda3/lib/python3.9/site-packages/joblib/parallel.py\u001B[0m in \u001B[0;36mretrieve\u001B[0;34m(self)\u001B[0m\n\u001B[1;32m    933\u001B[0m             \u001B[0;32mtry\u001B[0m\u001B[0;34m:\u001B[0m\u001B[0;34m\u001B[0m\u001B[0;34m\u001B[0m\u001B[0m\n\u001B[1;32m    934\u001B[0m                 \u001B[0;32mif\u001B[0m \u001B[0mgetattr\u001B[0m\u001B[0;34m(\u001B[0m\u001B[0mself\u001B[0m\u001B[0;34m.\u001B[0m\u001B[0m_backend\u001B[0m\u001B[0;34m,\u001B[0m \u001B[0;34m'supports_timeout'\u001B[0m\u001B[0;34m,\u001B[0m \u001B[0;32mFalse\u001B[0m\u001B[0;34m)\u001B[0m\u001B[0;34m:\u001B[0m\u001B[0;34m\u001B[0m\u001B[0;34m\u001B[0m\u001B[0m\n\u001B[0;32m--> 935\u001B[0;31m                     \u001B[0mself\u001B[0m\u001B[0;34m.\u001B[0m\u001B[0m_output\u001B[0m\u001B[0;34m.\u001B[0m\u001B[0mextend\u001B[0m\u001B[0;34m(\u001B[0m\u001B[0mjob\u001B[0m\u001B[0;34m.\u001B[0m\u001B[0mget\u001B[0m\u001B[0;34m(\u001B[0m\u001B[0mtimeout\u001B[0m\u001B[0;34m=\u001B[0m\u001B[0mself\u001B[0m\u001B[0;34m.\u001B[0m\u001B[0mtimeout\u001B[0m\u001B[0;34m)\u001B[0m\u001B[0;34m)\u001B[0m\u001B[0;34m\u001B[0m\u001B[0;34m\u001B[0m\u001B[0m\n\u001B[0m\u001B[1;32m    936\u001B[0m                 \u001B[0;32melse\u001B[0m\u001B[0;34m:\u001B[0m\u001B[0;34m\u001B[0m\u001B[0;34m\u001B[0m\u001B[0m\n\u001B[1;32m    937\u001B[0m                     \u001B[0mself\u001B[0m\u001B[0;34m.\u001B[0m\u001B[0m_output\u001B[0m\u001B[0;34m.\u001B[0m\u001B[0mextend\u001B[0m\u001B[0;34m(\u001B[0m\u001B[0mjob\u001B[0m\u001B[0;34m.\u001B[0m\u001B[0mget\u001B[0m\u001B[0;34m(\u001B[0m\u001B[0;34m)\u001B[0m\u001B[0;34m)\u001B[0m\u001B[0;34m\u001B[0m\u001B[0;34m\u001B[0m\u001B[0m\n",
      "\u001B[0;32m~/anaconda3/lib/python3.9/site-packages/joblib/_parallel_backends.py\u001B[0m in \u001B[0;36mwrap_future_result\u001B[0;34m(future, timeout)\u001B[0m\n\u001B[1;32m    540\u001B[0m         AsyncResults.get from multiprocessing.\"\"\"\n\u001B[1;32m    541\u001B[0m         \u001B[0;32mtry\u001B[0m\u001B[0;34m:\u001B[0m\u001B[0;34m\u001B[0m\u001B[0;34m\u001B[0m\u001B[0m\n\u001B[0;32m--> 542\u001B[0;31m             \u001B[0;32mreturn\u001B[0m \u001B[0mfuture\u001B[0m\u001B[0;34m.\u001B[0m\u001B[0mresult\u001B[0m\u001B[0;34m(\u001B[0m\u001B[0mtimeout\u001B[0m\u001B[0;34m=\u001B[0m\u001B[0mtimeout\u001B[0m\u001B[0;34m)\u001B[0m\u001B[0;34m\u001B[0m\u001B[0;34m\u001B[0m\u001B[0m\n\u001B[0m\u001B[1;32m    543\u001B[0m         \u001B[0;32mexcept\u001B[0m \u001B[0mCfTimeoutError\u001B[0m \u001B[0;32mas\u001B[0m \u001B[0me\u001B[0m\u001B[0;34m:\u001B[0m\u001B[0;34m\u001B[0m\u001B[0;34m\u001B[0m\u001B[0m\n\u001B[1;32m    544\u001B[0m             \u001B[0;32mraise\u001B[0m \u001B[0mTimeoutError\u001B[0m \u001B[0;32mfrom\u001B[0m \u001B[0me\u001B[0m\u001B[0;34m\u001B[0m\u001B[0;34m\u001B[0m\u001B[0m\n",
      "\u001B[0;32m~/anaconda3/lib/python3.9/concurrent/futures/_base.py\u001B[0m in \u001B[0;36mresult\u001B[0;34m(self, timeout)\u001B[0m\n\u001B[1;32m    443\u001B[0m                     \u001B[0;32mraise\u001B[0m \u001B[0mCancelledError\u001B[0m\u001B[0;34m(\u001B[0m\u001B[0;34m)\u001B[0m\u001B[0;34m\u001B[0m\u001B[0;34m\u001B[0m\u001B[0m\n\u001B[1;32m    444\u001B[0m                 \u001B[0;32melif\u001B[0m \u001B[0mself\u001B[0m\u001B[0;34m.\u001B[0m\u001B[0m_state\u001B[0m \u001B[0;34m==\u001B[0m \u001B[0mFINISHED\u001B[0m\u001B[0;34m:\u001B[0m\u001B[0;34m\u001B[0m\u001B[0;34m\u001B[0m\u001B[0m\n\u001B[0;32m--> 445\u001B[0;31m                     \u001B[0;32mreturn\u001B[0m \u001B[0mself\u001B[0m\u001B[0;34m.\u001B[0m\u001B[0m__get_result\u001B[0m\u001B[0;34m(\u001B[0m\u001B[0;34m)\u001B[0m\u001B[0;34m\u001B[0m\u001B[0;34m\u001B[0m\u001B[0m\n\u001B[0m\u001B[1;32m    446\u001B[0m                 \u001B[0;32melse\u001B[0m\u001B[0;34m:\u001B[0m\u001B[0;34m\u001B[0m\u001B[0;34m\u001B[0m\u001B[0m\n\u001B[1;32m    447\u001B[0m                     \u001B[0;32mraise\u001B[0m \u001B[0mTimeoutError\u001B[0m\u001B[0;34m(\u001B[0m\u001B[0;34m)\u001B[0m\u001B[0;34m\u001B[0m\u001B[0;34m\u001B[0m\u001B[0m\n",
      "\u001B[0;32m~/anaconda3/lib/python3.9/concurrent/futures/_base.py\u001B[0m in \u001B[0;36m__get_result\u001B[0;34m(self)\u001B[0m\n\u001B[1;32m    388\u001B[0m         \u001B[0;32mif\u001B[0m \u001B[0mself\u001B[0m\u001B[0;34m.\u001B[0m\u001B[0m_exception\u001B[0m\u001B[0;34m:\u001B[0m\u001B[0;34m\u001B[0m\u001B[0;34m\u001B[0m\u001B[0m\n\u001B[1;32m    389\u001B[0m             \u001B[0;32mtry\u001B[0m\u001B[0;34m:\u001B[0m\u001B[0;34m\u001B[0m\u001B[0;34m\u001B[0m\u001B[0m\n\u001B[0;32m--> 390\u001B[0;31m                 \u001B[0;32mraise\u001B[0m \u001B[0mself\u001B[0m\u001B[0;34m.\u001B[0m\u001B[0m_exception\u001B[0m\u001B[0;34m\u001B[0m\u001B[0;34m\u001B[0m\u001B[0m\n\u001B[0m\u001B[1;32m    391\u001B[0m             \u001B[0;32mfinally\u001B[0m\u001B[0;34m:\u001B[0m\u001B[0;34m\u001B[0m\u001B[0;34m\u001B[0m\u001B[0m\n\u001B[1;32m    392\u001B[0m                 \u001B[0;31m# Break a reference cycle with the exception in self._exception\u001B[0m\u001B[0;34m\u001B[0m\u001B[0;34m\u001B[0m\u001B[0m\n",
      "\u001B[0;31mTypeError\u001B[0m: __init__() got an unexpected keyword argument 'maxiter'"
     ]
    }
   ],
   "source": [
    "# real estimation \n",
    "model = KMeans(4, max_iter=3000, tol=1e-5)\n",
    "gen_mix_init = gen_mix[:500]\n",
    "model.fit(gen_mix_init)\n",
    "pi_pred = np.array([(model.labels_ == k).sum() / len(model.labels_) for k in range(3)], dtype=np.float64)\n",
    "mu_pred = np.array([gen_mix_init[model.labels_ == k].mean(0) for k in range(3)], dtype=np.float64)\n",
    "D_pred = np.array([np.eye(3), np.eye(3), np.eye(3)], dtype=np.float64)\n",
    "A_pred = np.ones(A.shape, dtype=np.float64)\n",
    "nu_pred = np.ones(nu.shape, dtype=np.float64)\n",
    "\n",
    "shuffle(gen_mix)\n",
    "stat = {'s0': np.zeros(len(pi)), 's1': np.zeros(D.shape), 'S2': np.zeros((*D.shape, mu.shape[-1])), \n",
    "             's3': np.zeros(A.shape), 's4': np.zeros(A.shape)}\n",
    "m = 50\n",
    "gam = (1-10e-10)*np.array([k for k in range(1, len(gen_mix) + 1)]) ** (-6/10)\n",
    "\n",
    "    \n",
    "D_hist, mu_hist, pi_hist, nu_hist, A_hist = [], [], [], [], []\n",
    "\n",
    "for i in tqdm(range(0, len(gen_mix) - m, m)):\n",
    "    stat_new = {'s0': np.zeros(len(pi)), 's1': np.zeros(D.shape), 'S2': np.zeros((*D.shape, mu.shape[-1])), \n",
    "             's3': np.zeros(A.shape), 's4': np.zeros(A.shape)}\n",
    "    for k in range(m):\n",
    "        y = gen_mix[i + k] \n",
    "        mst = pdfMST(y, mu_pred, A_pred, D_pred, nu_pred)\n",
    "        r = pi_pred * mst / pdfMMST(pi_pred, mst)\n",
    "        stat_tmp = updateStat(y, mu_pred, A_pred, D_pred, nu_pred, r, gam[i // m], copy.deepcopy(stat))\n",
    "        stat_new['s0'] += stat_tmp['s0'] / m\n",
    "        stat_new['s1'] += stat_tmp['s1'] / m\n",
    "        stat_new['S2'] += stat_tmp['S2'] / m\n",
    "        stat_new['s3'] += stat_tmp['s3'] / m\n",
    "        stat_new['s4'] += stat_tmp['s4'] / m\n",
    "    stat = copy.deepcopy(stat_new)\n",
    "    pi_pred, mu_pred, A_pred, D_pred, nu_pred = updateParams(copy.deepcopy(stat), copy.deepcopy(D_pred))\n",
    "    D_hist.append(D_pred)\n",
    "    pi_hist.append(pi_pred)\n",
    "    mu_hist.append(mu_pred)\n",
    "    nu_hist.append(nu_pred)\n",
    "    A_hist.append(A_pred)\n",
    "    if (i // m) % 10 == 0:\n",
    "        print(pi_pred)"
   ]
  },
  {
   "cell_type": "markdown",
   "id": "0a9f348d",
   "metadata": {},
   "source": [
    "# 2D test"
   ]
  },
  {
   "cell_type": "code",
   "execution_count": null,
   "id": "f6072118",
   "metadata": {},
   "outputs": [],
   "source": [
    "pi = np.array([.1, .2, .3, .4], dtype=np.float64)\n",
    "mu = np.array([[0, -6], [0, 0], [0, 6], [-6, 6]], dtype=np.float64)\n",
    "angle = np.pi / 6\n",
    "matRot = [[np.cos(angle), -np.sin(angle)], [np.sin(angle), np.cos(angle)]]\n",
    "D = np.array([matRot, matRot, matRot, matRot], dtype=np.float64)\n",
    "A = np.ones((4, 2), dtype=np.float64)\n",
    "A = np.array([[2, 3], [1, 2.5], [5, 2], [1.5, 0.9]], dtype=np.float64)\n",
    "nu = np.array([[1, 30], [1, 30], [1, 30], [1, 30]], dtype=np.float64)\n",
    "\n",
    "gen_mix = sampleMMST(1000000, pi, mu, A, D, nu)\n",
    "gen_mix = np.array(sorted(gen_mix, key=lambda e: abs(e.max()) < 10 and abs(e.min()) < 10)[::-1], dtype=np.float64)\n",
    "\n",
    "# real estimation \n",
    "model = KMeans(4, max_iter=3000, tol=1e-5)\n",
    "gen_mix_init = gen_mix[:500]\n",
    "model.fit(gen_mix_init)\n",
    "\n",
    "pi_pred = np.array([(model.labels_ == k).sum() / len(model.labels_) for k in range(4)], dtype=np.float64)\n",
    "mu_pred = np.array([gen_mix_init[model.labels_ == k].mean(0) for k in range(4)], dtype=np.float64)\n",
    "D_pred = np.array([np.eye(2), np.eye(2), np.eye(2), np.eye(2)], dtype=np.float64)\n",
    "A_pred = np.ones(A.shape, dtype=np.float64)\n",
    "nu_pred = 30 * np.ones(nu.shape, dtype=np.float64)\n",
    "\n",
    "shuffle(gen_mix)\n",
    "stat = {'s0': np.zeros(len(pi)), 's1': np.zeros(D.shape), 'S2': np.zeros((*D.shape, mu.shape[-1])), \n",
    "             's3': np.zeros(A.shape), 's4': np.zeros(A.shape)}\n",
    "m = 50\n",
    "gam = (1-10e-10)*np.array([k for k in range(1, len(gen_mix) + 1)]) ** (-6/10)"
   ]
  },
  {
   "cell_type": "code",
   "execution_count": null,
   "id": "15273fd4",
   "metadata": {},
   "outputs": [],
   "source": [
    "D_hist, mu_hist, pi_hist, nu_hist, A_hist, stat_hist = [], [], [], [], [], []\n",
    "\n",
    "for i in tqdm(range(0, len(gen_mix) - m, m)):\n",
    "    stat_new = {'s0': np.zeros(len(pi)), 's1': np.zeros(D.shape), 'S2': np.zeros((*D.shape, mu.shape[-1])), \n",
    "             's3': np.zeros(A.shape), 's4': np.zeros(A.shape)}\n",
    "    for k in range(m):\n",
    "        y = gen_mix[i + k] \n",
    "        mst = pdfMST(y, mu_pred, A_pred, D_pred, nu_pred)\n",
    "        r = pi_pred * mst / pdfMMST(pi_pred, mst)\n",
    "        stat_tmp = updateStat(y, mu_pred, A_pred, D_pred, nu_pred, r, gam[i // m], copy.deepcopy(stat))\n",
    "        stat_new['s0'] += stat_tmp['s0'] / m\n",
    "        stat_new['s1'] += stat_tmp['s1'] / m\n",
    "        stat_new['S2'] += stat_tmp['S2'] / m\n",
    "        stat_new['s3'] += stat_tmp['s3'] / m\n",
    "        stat_new['s4'] += stat_tmp['s4'] / m\n",
    "    stat = copy.deepcopy(stat_new)\n",
    "    stat_hist.append(stat)\n",
    "    pi_pred, mu_pred, A_pred, D_pred, nu_pred = updateParams(copy.deepcopy(stat), copy.deepcopy(D_pred))\n",
    "    D_hist.append(D_pred)\n",
    "    pi_hist.append(pi_pred)\n",
    "    mu_hist.append(mu_pred)\n",
    "    nu_hist.append(nu_pred)\n",
    "    A_hist.append(A_pred)\n",
    "    if (i // m) % 500 == 0:\n",
    "        print(pi_pred)"
   ]
  }
 ],
 "metadata": {
  "kernelspec": {
   "display_name": "torch",
   "language": "python",
   "name": "torch"
  },
  "language_info": {
   "codemirror_mode": {
    "name": "ipython",
    "version": 3
   },
   "file_extension": ".py",
   "mimetype": "text/x-python",
   "name": "python",
   "nbconvert_exporter": "python",
   "pygments_lexer": "ipython3",
   "version": "3.9.7"
  }
 },
 "nbformat": 4,
 "nbformat_minor": 5
}