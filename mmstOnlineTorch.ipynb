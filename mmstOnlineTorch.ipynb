{
 "cells": [
  {
   "cell_type": "code",
   "execution_count": null,
   "id": "bb5e4363",
   "metadata": {},
   "outputs": [],
   "source": [
    "import numpy as np\n",
    "\n",
    "import math as m \n",
    "from scipy.special import gamma, loggamma, digamma\n",
    "from scipy.optimize import brentq\n",
    "\n",
    "import torch\n",
    "from torch.autograd import Variable\n",
    "\n",
    "import matplotlib.pyplot as plt\n",
    "\n",
    "import pymanopt\n",
    "from pymanopt.manifolds import Stiefel\n",
    "from pymanopt.solvers import TrustRegions, ConjugateGradient, SteepestDescent\n",
    "\n",
    "from tqdm import tqdm"
   ]
  },
  {
   "cell_type": "markdown",
   "id": "fe0906c9",
   "metadata": {},
   "source": [
    "## PDF"
   ]
  },
  {
   "cell_type": "code",
   "execution_count": null,
   "id": "60a4c938",
   "metadata": {},
   "outputs": [],
   "source": [
    "def pdfMST(y, μ, A, D, ν):\n",
    "    \"\"\"\n",
    "    pdf of MST\n",
    "    y: M\n",
    "    μ: batch x M\n",
    "    D: batch x MxM\n",
    "    A: batch x M\n",
    "    ν: batch x M\n",
    "    \"\"\"\n",
    "    th2 = A * ν\n",
    "    th1 = (1 + (D.transpose(1, 2)@(y - μ).unsqueeze(-1)).squeeze(-1) ** 2 / th2).log()\n",
    "    exponent = - (ν + 1) / 2\n",
    "    \n",
    "    main = exponent * th1\n",
    "    \n",
    "    gam1 = ((ν + 1) / 2).lgamma()\n",
    "    gam2 = (ν / 2).lgamma()\n",
    "    th2 = gam1 - (gam2 + 0.5 * (m.pi * th2).log())\n",
    "    \n",
    "    main += th2\n",
    "    \n",
    "    return main.sum(1).exp()\n",
    "\n",
    "def pdfMMST(π, MST=None, μ=None, A=None, D=None, ν=None):\n",
    "    \"\"\"\n",
    "    log pdf of mixture of MST\n",
    "    y: M\n",
    "    π: K\n",
    "    μ: K x M\n",
    "    D: K x MxM\n",
    "    A: K x M\n",
    "    ν: K x M\n",
    "    \"\"\"\n",
    "    if MST is not None:\n",
    "        return (π * MST).sum()\n",
    "    else:\n",
    "        return (π * pdfMST(y, μ, A, D, ν)).sum()"
   ]
  },
  {
   "cell_type": "markdown",
   "id": "ca8408c5",
   "metadata": {},
   "source": [
    "## Sampling"
   ]
  },
  {
   "cell_type": "code",
   "execution_count": null,
   "id": "792ef3f3",
   "metadata": {},
   "outputs": [],
   "source": [
    "def sampleMST(N, μ, A, D, ν):\n",
    "    \"\"\"\n",
    "    sampling from MST\n",
    "    μ: batch x M\n",
    "    D: batch x MxM\n",
    "    A: batch x M\n",
    "    ν: batch x M\n",
    "    \"\"\"\n",
    "    \n",
    "    batch, M = μ.size()\n",
    "    X = torch.distributions.MultivariateNormal(torch.zeros(M), scale_tril=torch.diag(torch.ones(M))).sample((batch, N,))\n",
    "    \n",
    "    W = torch.distributions.Gamma(ν / 2, ν / 2).sample((N,))\n",
    "    W = W.transpose(0, 1)\n",
    "    \n",
    "    X /= W.sqrt()\n",
    "    \n",
    "    matA = torch.diag_embed(A.sqrt(), offset=0, dim1=-2, dim2=-1)\n",
    "    coef = D@matA\n",
    "    \n",
    "    gen = μ.unsqueeze(1) + (coef@X.transpose(2, 1)).transpose(1, 2)\n",
    "    \n",
    "    return gen \n",
    "\n",
    "def sampleMMST(N, π, μ, A, D, ν):\n",
    "    \"\"\"\n",
    "    sampling from MMST\n",
    "    N: int\n",
    "    π: K\n",
    "    μ: K x M\n",
    "    D: K x MxM\n",
    "    A: K x M\n",
    "    ν: K x M    \n",
    "    \"\"\"\n",
    "    classes = torch.multinomial(π, N, replacement=True)\n",
    "    \n",
    "    gen = sampleMST(N, μ, A, D, ν)\n",
    "    gen_mix = torch.tensor([], dtype=torch.float)\n",
    "    \n",
    "    for k in range(len(π)):\n",
    "        gen_mix = torch.cat((gen_mix, gen[k, classes == k, :]))\n",
    "    \n",
    "    idx = torch.randperm(N)\n",
    "    return gen_mix[idx]\n",
    "\n"
   ]
  },
  {
   "cell_type": "code",
   "execution_count": null,
   "id": "2726b03a",
   "metadata": {},
   "outputs": [],
   "source": [
    "π = torch.tensor([.3, .5, .2], dtype=torch.float)\n",
    "μ = torch.tensor([[0, -6], [0, 0], [0, 6]], dtype=torch.float)\n",
    "angle = m.pi / 6\n",
    "matRot = [[m.cos(angle), -m.sin(angle)], [m.sin(angle), m.cos(angle)]]\n",
    "D = torch.tensor([matRot, matRot, matRot], dtype=torch.float)\n",
    "A = torch.ones(3,2, dtype=torch.float)\n",
    "ν = torch.tensor([[1, 30], [1, 30], [1, 30]], dtype=torch.float)\n",
    "\n",
    "gen_mix = sampleMMST(4000, π, μ, A, D, ν)\n",
    "\n",
    "print(gen_mix.shape)"
   ]
  },
  {
   "cell_type": "code",
   "execution_count": null,
   "id": "3b99c255",
   "metadata": {},
   "outputs": [],
   "source": [
    "plt.figure(figsize=(10, 5))\n",
    "\n",
    "plt.scatter(gen_mix[:, 0], gen_mix[:, 1], s=1.9, c='green')\n",
    "\n",
    "plt.xlim(-10, 10)\n",
    "plt.xlabel('First dimension')\n",
    "\n",
    "plt.ylim(-10, 10)\n",
    "plt.ylabel('Second dimension')\n",
    "\n",
    "plt.title('MMST')\n",
    "plt.show()"
   ]
  },
  {
   "cell_type": "code",
   "execution_count": null,
   "id": "ea0a1df6",
   "metadata": {},
   "outputs": [],
   "source": [
    "#3D mixtures\n",
    "π = torch.tensor([.3, .5, .2], dtype=torch.float)\n",
    "μ = torch.tensor([[0, -6, 0], [0, 0, 0], [0, 6, 0]], dtype=torch.float)\n",
    "angle = m.pi / 6\n",
    "matRot = [[1, 0, 0], [0, m.cos(angle), -m.sin(angle)], [0, m.sin(angle), m.cos(angle)]]\n",
    "D = torch.tensor([matRot, matRot, matRot], dtype=torch.float)\n",
    "A = torch.ones(3, 3, dtype=torch.float)\n",
    "ν = torch.tensor([[1, 10, 30], [1, 10, 30], [1, 10, 30]], dtype=torch.float)\n",
    "gen_mix = sampleMMST(4000, π, μ, A, D, ν)\n",
    "\n",
    "print(gen_mix.shape)"
   ]
  },
  {
   "cell_type": "code",
   "execution_count": null,
   "id": "ccc38f80",
   "metadata": {},
   "outputs": [],
   "source": [
    "fig = plt.figure(figsize=(10, 5))\n",
    "ax = fig.add_subplot(projection='3d')\n",
    "\n",
    "ax.scatter(gen_mix[:, 0], gen_mix[:, 1], gen_mix[:, 2], s=1, c='green')\n",
    "ax.set_xlim(-10, 10)\n",
    "ax.set_ylim(-10, 10)\n",
    "ax.set_zlim(-10, 10)\n",
    "\n",
    "ax.set_title(\"3D mixtures\")\n",
    "\n",
    "ax.set_xlabel(\"x\")\n",
    "ax.set_ylabel(\"y\")\n",
    "ax.set_zlabel(\"z\")\n",
    "\n",
    "plt.show()"
   ]
  },
  {
   "cell_type": "markdown",
   "id": "829dc26d",
   "metadata": {},
   "source": [
    "## Updates EM"
   ]
  },
  {
   "cell_type": "markdown",
   "id": "8f6d0522",
   "metadata": {},
   "source": [
    "### Update Stats"
   ]
  },
  {
   "cell_type": "code",
   "execution_count": null,
   "id": "4bf3c3f2",
   "metadata": {},
   "outputs": [],
   "source": [
    "def alpha_beta(y, μ, A, D, ν):\n",
    "    \"\"\"\n",
    "    y: M\n",
    "    μ: batch x M\n",
    "    D: batch x MxM\n",
    "    A: batch x M\n",
    "    ν: batch x M\n",
    "    \"\"\"\n",
    "    tmp = ν / 2\n",
    "    \n",
    "    α = tmp + 0.5\n",
    "    β = tmp + (D.transpose(1, 2)@(y - μ).unsqueeze(-1)).squeeze(-1) ** 2 / (2 * A)\n",
    "    \n",
    "    return α, β\n",
    "\n",
    "def U(α, β):\n",
    "    \"U: batch x M\"\n",
    "    return α / β\n",
    "\n",
    "def Utilde(α, β):\n",
    "    \"Utilde: batch x M\"\n",
    "    return torch.digamma(α) - torch.log(β)"
   ]
  },
  {
   "cell_type": "code",
   "execution_count": null,
   "id": "baf2b7e9",
   "metadata": {},
   "outputs": [],
   "source": [
    "def updateStat(y, μ, A, D, ν, r, γ, stat):   \n",
    "    \"\"\"\n",
    "    Update stats only\n",
    "    y: M\n",
    "    μ: K x M\n",
    "    D: K x MxM\n",
    "    A: K x M\n",
    "    ν: K x M\n",
    "    r: K\n",
    "    γ: float\n",
    "    stat: dict of stat\n",
    "    \"\"\"\n",
    "    stat['s0'] = γ * r  + (1 - γ) * stat['s0']\n",
    "    \n",
    "    α, β = alpha_beta(y, μ, A, D, ν)\n",
    "    u, utilde = U(α, β), Utilde(α, β)\n",
    "    r = r.unsqueeze(-1)\n",
    "    ru, rutilde = r * u, r * utilde\n",
    "    \n",
    "    y_unsqueeze = y.unsqueeze(-1)\n",
    "    ymat = y_unsqueeze@y_unsqueeze.T\n",
    "    \n",
    "    stat['s1'] = γ * torch.einsum('ij,k->ijk', ru , y) + (1 - γ) * stat['s1']\n",
    "    stat['S2'] = γ * torch.einsum('ij,kl->ijkl', ru , ymat) + (1 - γ) * stat['S2']\n",
    "    stat['s3'] = γ * ru + (1 - γ) * stat['s3']\n",
    "    stat['s4'] = γ * rutilde  + (1 - γ) * stat['s4']\n",
    "    \n",
    "    return stat"
   ]
  },
  {
   "cell_type": "markdown",
   "id": "c231fb16",
   "metadata": {},
   "source": [
    "### Update params"
   ]
  },
  {
   "cell_type": "code",
   "execution_count": null,
   "id": "05cc72aa",
   "metadata": {},
   "outputs": [],
   "source": [
    "# Update ν\n",
    "def fun_ν(νkm, s3km, s4km):\n",
    "    return s4km - s3km - digamma(νkm / 2) + np.log(νkm / 2) + 1\n",
    "\n",
    "def update_ν(stat):\n",
    "    K, M = stat['s3'].shape\n",
    "    new_ν = np.zeros((K, M))\n",
    "    for k in range(K):\n",
    "        for m in range(M):\n",
    "            s3km, s4km = (stat['s3'][k, m] / stat['s0'][k]).numpy() , (stat['s4'][k, m] / stat['s0'][k]).numpy()\n",
    "            fun = lambda x : fun_ν(x, s3km, s4km)\n",
    "            new_ν[k, m] = brentq(fun, .001, 100)\n",
    "    return torch.tensor(new_ν, dtype=torch.float)"
   ]
  },
  {
   "cell_type": "code",
   "execution_count": null,
   "id": "f25f714d",
   "metadata": {},
   "outputs": [],
   "source": [
    "update_ν(stat)"
   ]
  },
  {
   "cell_type": "code",
   "execution_count": null,
   "id": "b23c023e",
   "metadata": {},
   "outputs": [],
   "source": [
    "# Update μ\n",
    "def update_μ(stat, D):\n",
    "    S3_inv = torch.diag_embed(1 / (stat['s3'] / stat['s0'].unsqueeze(-1)), offset=0, dim1=-2, dim2=-1)\n",
    "    v = torch.diagonal(torch.matmul(D.transpose(1, 2), (stat['s1'] / stat['s0'][:, None, None]).transpose(1, 2)), offset=0, dim1=-2, dim2=-1).unsqueeze(-1)\n",
    "    return (D@(S3_inv@v))[..., 0], v[..., 0]\n"
   ]
  },
  {
   "cell_type": "code",
   "execution_count": null,
   "id": "91bc4c4e",
   "metadata": {},
   "outputs": [],
   "source": [
    "# Update A\n",
    "# version sans boucle ? efficace ? \n",
    "def update_A(stat, D, v):\n",
    "    S2 = stat['S2'] / stat['s0'][:, None, None, None]\n",
    "    s3 = stat['s3'] / stat['s0'].unsqueeze(-1)\n",
    "\n",
    "    tmp = torch.matmul(D[:, None, ...].transpose(-2, -1), S2)\n",
    "    tmp = torch.matmul(tmp, D[:, None, ...])\n",
    "    tmp = torch.diagonal(tmp, offset=0, dim1=-2, dim2=-1)\n",
    "    return torch.diagonal(tmp, offset=0, dim1=-2, dim2=-1) - v ** 2 / s3\n",
    "\n",
    "def update_A_loop(stat, D, v):\n",
    "    S2 = stat['S2'] / stat['s0'][:, None, None, None]\n",
    "    s3 = stat['s3'] / stat['s0'].unsqueeze(-1)\n",
    "    s1 = stat['s1'] / stat['s0'][:, None, None]\n",
    "    \n",
    "    K, M, _ = D.shape\n",
    "    A_new = torch.zeros(K, M)\n",
    "    for k in range(K):\n",
    "        for m in range(M):\n",
    "            A_new[k, m] = D[k, :, m]@S2[k, m]@D[k, :, m] - (D[k, :, m]@s1[k, m])**2 / s3[k, m]\n",
    "    return A_new"
   ]
  },
  {
   "cell_type": "code",
   "execution_count": null,
   "id": "d0930328",
   "metadata": {},
   "outputs": [],
   "source": [
    "_, v = update_μ(stat, D)\n",
    "update_A(stat, D, v)"
   ]
  },
  {
   "cell_type": "code",
   "execution_count": null,
   "id": "14185cf7",
   "metadata": {},
   "outputs": [],
   "source": [
    "# Update π\n",
    "def update_π(stat):\n",
    "    return stat['s0'] # / stat['s0'].sum() à rajouter si on initialise pas avec des probas"
   ]
  },
  {
   "cell_type": "code",
   "execution_count": null,
   "id": "a8ad6d46",
   "metadata": {},
   "outputs": [],
   "source": [
    "# Update D\n",
    "\n",
    "# objective\n",
    "def fun(D, s1, S2, s3):\n",
    "    K, M = s3.shape\n",
    "\n",
    "    tmp = s1 / s3.unsqueeze(-1)\n",
    "    matOpt = S2 - torch.matmul(tmp.unsqueeze(-1), s1[:, :, None, :])\n",
    "    \n",
    "    tmp = torch.matmul(D[:, None, ...].transpose(-2, -1), matOpt)\n",
    "    tmp = torch.matmul(tmp, D[:, None, ...])\n",
    "    tmp = torch.diagonal(tmp, offset=0, dim1=-2, dim2=-1)\n",
    "    value = torch.diagonal(tmp, offset=0, dim1=-2, dim2=-1)\n",
    "    return value.log().sum(-1)\n",
    "\n",
    "#### Natural Gradient ####\n",
    "def grad(D, s1, S2, s3):\n",
    "    K, M = s3.shape\n",
    "\n",
    "    tmp = s1 / s3.unsqueeze(-1)\n",
    "    matOpt = (S2 - torch.matmul(tmp.unsqueeze(-1), s1[:, :, None, :]))\n",
    "\n",
    "    # denom\n",
    "    tmp = torch.matmul(D[:, None, ...].transpose(-2, -1), matOpt)\n",
    "    tmp = torch.matmul(tmp, D[:, None, ...])\n",
    "    tmp = torch.diagonal(tmp, offset=0, dim1=-2, dim2=-1)\n",
    "    denom = torch.diagonal(tmp, offset=0, dim1=-2, dim2=-1)\n",
    "\n",
    "    matOpt *= 2\n",
    "    grad = torch.zeros(K, M, M)\n",
    "    for k in range(K):\n",
    "        for m in range(M):\n",
    "            grad[k, m] = matOpt[k, m]@D[k,:,m] / denom[k, m]\n",
    "\n",
    "    natural_grad = grad - torch.matmul(D, torch.matmul(grad.transpose(1, 2), D))\n",
    "    \n",
    "    return natural_grad\n",
    "\n",
    "\n",
    "def natSGD(D, s1, S2, s3):\n",
    "    D_new = torch.clone(D)\n",
    "    eta = 1e-2\n",
    "    for _ in range(300):\n",
    "        nat_grad = grad(D_new, s1, S2, s3)\n",
    "        D_new -= eta * nat_grad\n",
    "    return D_new\n",
    "\n",
    "#### package ####\n",
    "def update_D(D, stat, solver=TrustRegions()):\n",
    "    s1 = stat['s1'] / stat['s0'][:, None, None]\n",
    "    s3 = stat['s3'] / stat['s0'].unsqueeze(-1)\n",
    "    S2 = stat['S2'] / stat['s0'][:, None, None, None]\n",
    "    \n",
    "    manifold = Stiefel(D.shape[1], D.shape[2])\n",
    "    \n",
    "    def find_cost(k, s1, S2, s3):\n",
    "        @pymanopt.function.pytorch(manifold)\n",
    "        def cost(D):\n",
    "            sum_all = 0\n",
    "            M = len(D[0])\n",
    "            for m in range(M):\n",
    "                tmp = s1[k, m] / s3[k, m]\n",
    "                matQuad = (S2[k, m] - tmp.unsqueeze(-1)@s1[k, m].unsqueeze(-1).T)\n",
    "                quadForm = D[:, m].T @ matQuad.type(torch.float64) @ D[:, m]\n",
    "                sum_all += quadForm.log()\n",
    "            return sum_all\n",
    "        return cost\n",
    "    \n",
    "    D_new = np.zeros(D.shape)\n",
    "    for k in range(len(D)):\n",
    "        cost = find_cost(k, s1, S2, s3)\n",
    "        problem = pymanopt.Problem(manifold, cost, verbosity=0)\n",
    "        D_new[k] = solver.solve(problem)\n",
    "    D_new = torch.tensor(D_new, dtype=torch.float)\n",
    "    return D_new"
   ]
  },
  {
   "cell_type": "code",
   "execution_count": null,
   "id": "8a39ddfa",
   "metadata": {},
   "outputs": [],
   "source": [
    "a = time.time()\n",
    "D_new_manOPT_conj = update_D(D, stat, SteepestDescent())\n",
    "print(time.time() - a)\n",
    "a = time.time()\n",
    "D_new_manOPT_tr = update_D(D, stat)\n",
    "print(time.time() - a)\n",
    "\n",
    "print(\"départ: \", fun(D, s1, S2, s3))\n",
    "\n",
    "print(\"methode 1: \", fun(D_new_manOPT_conj, s1, S2, s3))\n",
    "\n",
    "print(\"methode 2: \", fun(D_new_manOPT_tr, s1, S2, s3))"
   ]
  },
  {
   "cell_type": "code",
   "execution_count": null,
   "id": "1431a8b9",
   "metadata": {},
   "outputs": [],
   "source": [
    "def updateParams(y, π, μ, A, D, ν, stat):\n",
    "    π_new = update_π(stat)\n",
    "    D_new = update_D(D, stat)\n",
    "    μ_new, v = update_μ(stat, D_new)\n",
    "    A_new = update_A(stat, D_new, v)\n",
    "    ν_new = update_ν(stat)\n",
    "    return π_new, μ_new, A_new, D_new, ν_new"
   ]
  },
  {
   "cell_type": "markdown",
   "id": "a89e9bd4",
   "metadata": {},
   "source": [
    "## EM"
   ]
  },
  {
   "cell_type": "code",
   "execution_count": null,
   "id": "f0cc2bf6",
   "metadata": {},
   "outputs": [],
   "source": [
    "# K, M = 3, 2 real data\n",
    "π = torch.tensor([.3, .5, .2], dtype=torch.float)\n",
    "μ = torch.tensor([[0, -6], [0, 0], [0, 6]], dtype=torch.float)\n",
    "angle = np.pi / 6\n",
    "matRot = [[np.cos(angle), -np.sin(angle)], [np.sin(angle), np.cos(angle)]]\n",
    "D = torch.tensor([matRot, matRot, matRot], dtype=torch.float)\n",
    "A = torch.ones(3,2, dtype=torch.float)\n",
    "ν = torch.tensor([[1, 30], [1, 30], [1, 30]], dtype=torch.float)\n",
    "\n",
    "gen_mix = sampleMMST(4000, π, μ, A, D, ν)\n",
    "gen_mix = torch.tensor(np.array(sorted(gen_mix.numpy(), key=lambda e: abs(e.max()) < 10 and abs(e.min()) < 10)[::-1]), dtype=torch.float)\n"
   ]
  },
  {
   "cell_type": "code",
   "execution_count": null,
   "id": "91d63ef3",
   "metadata": {},
   "outputs": [],
   "source": [
    "# real estimation \n",
    "from sklearn.cluster import KMeans\n",
    "model = KMeans(3, max_iter=3000, tol=1e-5)\n",
    "gen_mix_init = gen_mix[:500]\n",
    "model.fit(gen_mix_init.numpy())\n",
    "torch.tensor([(model.labels_ == k).sum() / len(model.labels_) for k in range(3)], dtype=torch.float)\n",
    "\n",
    "π_pred = torch.tensor([(model.labels_ == k).sum() / len(model.labels_) for k in range(3)], dtype=torch.float)\n",
    "μ_pred = torch.tensor(np.array([gen_mix_init[model.labels_ == k].numpy().mean(0) for k in range(3)]), dtype=torch.float)\n",
    "D_pred = torch.tensor(np.array([np.eye(2), np.eye(2), np.eye(2)]), dtype=torch.float)\n",
    "A_pred = torch.tensor(np.ones(A.shape), dtype=torch.float)\n",
    "ν_pred = torch.tensor(30 * np.ones(ν.shape), dtype=torch.float)"
   ]
  },
  {
   "cell_type": "code",
   "execution_count": null,
   "id": "3a6123ff",
   "metadata": {},
   "outputs": [],
   "source": [
    "#burnin\n",
    "import time\n",
    "stat = {'s0': torch.zeros(len(π)), 's1': torch.zeros(D.shape), 'S2': torch.zeros((*D.shape, μ.shape[-1])), \n",
    "         's3': torch.zeros(A.shape), 's4': torch.zeros(A.shape)}\n",
    "γ = (1-10e-10)*torch.tensor([k for k in range(1, len(gen_mix) + 1)]) ** (-6/10)\n",
    "a = time.time()\n",
    "for i in range(500):\n",
    "    y = gen_mix[i]\n",
    "    mst = pdfMST(y, μ_pred, A_pred, D_pred, ν_pred)\n",
    "    r = π_pred * mst / pdfMMST(π_pred, mst)\n",
    "    stat = updateStat(y, μ_pred, A_pred, D_pred, ν_pred, r, γ[i], stat)\n",
    "print(time.time() - a)"
   ]
  },
  {
   "cell_type": "code",
   "execution_count": null,
   "id": "eac546af",
   "metadata": {},
   "outputs": [],
   "source": [
    "stat "
   ]
  },
  {
   "cell_type": "code",
   "execution_count": null,
   "id": "0bd9c5be",
   "metadata": {},
   "outputs": [],
   "source": [
    "for i in tqdm(range(500, 1200)):\n",
    "    y = gen_mix[i]\n",
    "    mst = pdfMST(y, μ_pred, A_pred, D_pred, ν_pred)\n",
    "    r = π_pred * mst / pdfMMST(π_pred, mst)\n",
    "    π_pred, μ_pred, A_pred, D_pred, ν_pred = updateParams(y, π_pred, μ_pred, A_pred, D_pred, ν_pred, stat)\n",
    "    stat = updateStat(y, μ_pred, A_pred, D_pred, ν_pred, r, γ[i], stat)"
   ]
  },
  {
   "cell_type": "markdown",
   "id": "322bcb0a",
   "metadata": {},
   "source": [
    "## Clustering"
   ]
  },
  {
   "cell_type": "code",
   "execution_count": null,
   "id": "d295bdf6",
   "metadata": {},
   "outputs": [],
   "source": [
    "cluster_lab = torch.zeros(len(gen_mix))\n",
    "\n",
    "for i, y in enumerate(gen_mix):\n",
    "    mst = pdfMST(y, μ_pred, A_pred, D_pred, ν_pred)\n",
    "    r = π_pred * mst / pdfMMST(π_pred, mst)\n",
    "    cluster_lab[i] = torch.argmax(r)"
   ]
  },
  {
   "cell_type": "code",
   "execution_count": null,
   "id": "dbf0a7df",
   "metadata": {},
   "outputs": [],
   "source": [
    "cdict = {0: 'red', 1: 'blue', 2: 'green'}\n",
    "\n",
    "fig = plt.figure(figsize=(10, 5))\n",
    "ax = fig.add_subplot(projection='3d')\n",
    "\n",
    "for g in torch.unique(cluster_lab):\n",
    "    ix = torch.where(cluster_lab == g)\n",
    "    ax.scatter(gen_mix[:,0][ix], gen_mix[:,1][ix], gen_mix[:,2][ix], c = cdict[int(g)], label = int(g), s = 1)\n",
    "ax.legend()\n",
    "ax.set_xlim(-10, 10)\n",
    "ax.set_ylim(-10, 10)\n",
    "ax.set_zlim(-10, 10)\n",
    "plt.show()"
   ]
  },
  {
   "cell_type": "code",
   "execution_count": null,
   "id": "0329e72f",
   "metadata": {},
   "outputs": [],
   "source": []
  }
 ],
 "metadata": {
  "kernelspec": {
   "display_name": "torch",
   "language": "python",
   "name": "torch"
  },
  "language_info": {
   "codemirror_mode": {
    "name": "ipython",
    "version": 3
   },
   "file_extension": ".py",
   "mimetype": "text/x-python",
   "name": "python",
   "nbconvert_exporter": "python",
   "pygments_lexer": "ipython3",
   "version": "3.9.7"
  }
 },
 "nbformat": 4,
 "nbformat_minor": 5
}
